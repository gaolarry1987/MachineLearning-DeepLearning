{
  "nbformat": 4,
  "nbformat_minor": 0,
  "metadata": {
    "colab": {
      "provenance": [],
      "gpuType": "T4",
      "authorship_tag": "ABX9TyOhfHWpPlOGjoOetbvPs5ho",
      "include_colab_link": true
    },
    "kernelspec": {
      "name": "python3",
      "display_name": "Python 3"
    },
    "language_info": {
      "name": "python"
    },
    "accelerator": "GPU"
  },
  "cells": [
    {
      "cell_type": "markdown",
      "metadata": {
        "id": "view-in-github",
        "colab_type": "text"
      },
      "source": [
        "<a href=\"https://colab.research.google.com/github/gaolarry1987/MachineLearning-DeepLearning/blob/Practices/Practice1.ipynb\" target=\"_parent\"><img src=\"https://colab.research.google.com/assets/colab-badge.svg\" alt=\"Open In Colab\"/></a>"
      ]
    },
    {
      "cell_type": "code",
      "execution_count": 41,
      "metadata": {
        "id": "XOz6cbsuhCdm"
      },
      "outputs": [],
      "source": [
        "import torch\n",
        "import numpy as np"
      ]
    },
    {
      "cell_type": "code",
      "source": [
        "tensor_A = torch.rand(7,7)\n",
        "tensor_A"
      ],
      "metadata": {
        "colab": {
          "base_uri": "https://localhost:8080/"
        },
        "id": "KhnOZ1vqhFAI",
        "outputId": "d645a4ad-e587-41cb-b190-b875f80a5026"
      },
      "execution_count": 42,
      "outputs": [
        {
          "output_type": "execute_result",
          "data": {
            "text/plain": [
              "tensor([[0.7695, 0.0378, 0.2239, 0.6772, 0.5274, 0.6325, 0.0910],\n",
              "        [0.2323, 0.7269, 0.1187, 0.3951, 0.7199, 0.7595, 0.5311],\n",
              "        [0.6449, 0.7224, 0.4416, 0.3634, 0.8818, 0.9874, 0.7316],\n",
              "        [0.2814, 0.0651, 0.0065, 0.5035, 0.3082, 0.3742, 0.4297],\n",
              "        [0.9729, 0.9739, 0.4533, 0.3499, 0.7428, 0.4601, 0.0242],\n",
              "        [0.6630, 0.9787, 0.1037, 0.3920, 0.6084, 0.0928, 0.0719],\n",
              "        [0.8733, 0.3230, 0.7917, 0.5447, 0.6220, 0.1668, 0.3932]])"
            ]
          },
          "metadata": {},
          "execution_count": 42
        }
      ]
    },
    {
      "cell_type": "code",
      "source": [
        "tensor_B = torch.rand(1,7)\n",
        "tensor_C = tensor_B.T\n",
        "tensor_C"
      ],
      "metadata": {
        "colab": {
          "base_uri": "https://localhost:8080/"
        },
        "id": "sYIZyRm_hLiw",
        "outputId": "d3737b09-7397-4794-dc9e-7c335105dd26"
      },
      "execution_count": 43,
      "outputs": [
        {
          "output_type": "execute_result",
          "data": {
            "text/plain": [
              "tensor([[0.8298],\n",
              "        [0.7293],\n",
              "        [0.3554],\n",
              "        [0.5615],\n",
              "        [0.8828],\n",
              "        [0.0619],\n",
              "        [0.8212]])"
            ]
          },
          "metadata": {},
          "execution_count": 43
        }
      ]
    },
    {
      "cell_type": "code",
      "source": [
        "torch.matmul(tensor_A, tensor_C)"
      ],
      "metadata": {
        "colab": {
          "base_uri": "https://localhost:8080/"
        },
        "id": "jA_8HjRnheCf",
        "outputId": "665a94b1-e31a-4f0e-b439-3e534fe9f970"
      },
      "execution_count": 44,
      "outputs": [
        {
          "output_type": "execute_result",
          "data": {
            "text/plain": [
              "tensor([[1.7055],\n",
              "        [2.1056],\n",
              "        [2.8635],\n",
              "        [1.2141],\n",
              "        [2.5793],\n",
              "        [2.1228],\n",
              "        [2.4298]])"
            ]
          },
          "metadata": {},
          "execution_count": 44
        }
      ]
    },
    {
      "cell_type": "code",
      "source": [
        "RANDOM_SEED = 0\n",
        "torch.manual_seed(RANDOM_SEED)\n",
        "tensor_A = torch.rand(7,7)\n",
        "\n",
        "torch.manual_seed(RANDOM_SEED)\n",
        "tensor_C = torch.rand(7,7)\n",
        "\n",
        "print(tensor_A == tensor_C)\n",
        "\n",
        "torch.matmul(tensor_A, tensor_C)"
      ],
      "metadata": {
        "colab": {
          "base_uri": "https://localhost:8080/"
        },
        "id": "vTSuu_zLhkwk",
        "outputId": "69e2fb98-3a25-473f-97b4-11c74c573bb4"
      },
      "execution_count": 45,
      "outputs": [
        {
          "output_type": "stream",
          "name": "stdout",
          "text": [
            "tensor([[True, True, True, True, True, True, True],\n",
            "        [True, True, True, True, True, True, True],\n",
            "        [True, True, True, True, True, True, True],\n",
            "        [True, True, True, True, True, True, True],\n",
            "        [True, True, True, True, True, True, True],\n",
            "        [True, True, True, True, True, True, True],\n",
            "        [True, True, True, True, True, True, True]])\n"
          ]
        },
        {
          "output_type": "execute_result",
          "data": {
            "text/plain": [
              "tensor([[1.4453, 1.0926, 1.4581, 1.3235, 1.4729, 1.2880, 0.7752],\n",
              "        [1.5323, 1.5229, 1.2803, 1.3610, 0.9783, 1.3436, 1.0728],\n",
              "        [1.9851, 1.2829, 1.9461, 1.6327, 1.6470, 1.8897, 1.0188],\n",
              "        [1.6047, 1.9098, 2.3681, 2.3476, 1.6475, 1.9148, 1.4521],\n",
              "        [1.4985, 0.9676, 1.6055, 1.1853, 1.1255, 1.4089, 0.5297],\n",
              "        [1.4340, 1.2833, 2.1648, 2.2554, 1.3629, 1.6467, 1.0185],\n",
              "        [0.9212, 1.1111, 1.4061, 1.7023, 1.3085, 1.4995, 0.7890]])"
            ]
          },
          "metadata": {},
          "execution_count": 45
        }
      ]
    },
    {
      "cell_type": "code",
      "source": [
        "torch.cuda.is_available()"
      ],
      "metadata": {
        "colab": {
          "base_uri": "https://localhost:8080/"
        },
        "id": "MlLRkr5V3JCs",
        "outputId": "b5a37e57-bca0-4cee-b440-3b6210c10d24"
      },
      "execution_count": 46,
      "outputs": [
        {
          "output_type": "execute_result",
          "data": {
            "text/plain": [
              "True"
            ]
          },
          "metadata": {},
          "execution_count": 46
        }
      ]
    },
    {
      "cell_type": "code",
      "source": [
        "device = \"cuda\" if torch.cuda.is_available() else \"cpu\"\n",
        "device\n",
        "torch.cuda.device_count()"
      ],
      "metadata": {
        "colab": {
          "base_uri": "https://localhost:8080/"
        },
        "id": "-rQD-9re3aGn",
        "outputId": "22aeffef-5024-4de3-838e-5bc807b82aa1"
      },
      "execution_count": 47,
      "outputs": [
        {
          "output_type": "execute_result",
          "data": {
            "text/plain": [
              "1"
            ]
          },
          "metadata": {},
          "execution_count": 47
        }
      ]
    },
    {
      "cell_type": "code",
      "source": [
        "RANDOM_SEED = 1234\n",
        "torch.manual_seed(RANDOM_SEED)\n",
        "tensor_D = torch.rand(4,4)\n",
        "tensor_D\n",
        "tensor_on_GPU = tensor_D.to(device)"
      ],
      "metadata": {
        "id": "S8Ob0lvk2L_2"
      },
      "execution_count": 48,
      "outputs": []
    },
    {
      "cell_type": "code",
      "source": [
        "torch.manual_seed(RANDOM_SEED)\n",
        "tensor_E = torch.rand(4,4)\n",
        "tensor_E_on_GPU = tensor_E.to(device)\n",
        "\n",
        "print(tensor_on_GPU == tensor_E_on_GPU)"
      ],
      "metadata": {
        "colab": {
          "base_uri": "https://localhost:8080/"
        },
        "id": "M9sDMfo93GGb",
        "outputId": "fd95c0bf-4409-482c-cb80-ab31d76b73ed"
      },
      "execution_count": 49,
      "outputs": [
        {
          "output_type": "stream",
          "name": "stdout",
          "text": [
            "tensor([[True, True, True, True],\n",
            "        [True, True, True, True],\n",
            "        [True, True, True, True],\n",
            "        [True, True, True, True]], device='cuda:0')\n"
          ]
        }
      ]
    },
    {
      "cell_type": "code",
      "source": [
        "torch.manual_seed(RANDOM_SEED)\n",
        "random_tensor_A = torch.rand(2,3).to(device)\n",
        "torch.manual_seed(RANDOM_SEED)\n",
        "random_tensor_B = torch.rand(2,3).to(device)\n",
        "\n",
        "print(random_tensor_A)\n",
        "print(random_tensor_B)\n",
        "print(random_tensor_A == random_tensor_B)"
      ],
      "metadata": {
        "colab": {
          "base_uri": "https://localhost:8080/"
        },
        "id": "hH8SJrTN36en",
        "outputId": "a094416e-3bf1-4353-f721-a29e14f3770c"
      },
      "execution_count": 50,
      "outputs": [
        {
          "output_type": "stream",
          "name": "stdout",
          "text": [
            "tensor([[0.0290, 0.4019, 0.2598],\n",
            "        [0.3666, 0.0583, 0.7006]], device='cuda:0')\n",
            "tensor([[0.0290, 0.4019, 0.2598],\n",
            "        [0.3666, 0.0583, 0.7006]], device='cuda:0')\n",
            "tensor([[True, True, True],\n",
            "        [True, True, True]], device='cuda:0')\n"
          ]
        }
      ]
    },
    {
      "cell_type": "code",
      "source": [
        "random_tensor_B = random_tensor_B.T\n",
        "torch.matmul(random_tensor_A, random_tensor_B)"
      ],
      "metadata": {
        "colab": {
          "base_uri": "https://localhost:8080/"
        },
        "id": "L0SQCmnT6Ts2",
        "outputId": "7f92b8da-02b1-4380-f07d-b96eac901671"
      },
      "execution_count": 51,
      "outputs": [
        {
          "output_type": "execute_result",
          "data": {
            "text/plain": [
              "tensor([[0.2299, 0.2161],\n",
              "        [0.2161, 0.6287]], device='cuda:0')"
            ]
          },
          "metadata": {},
          "execution_count": 51
        }
      ]
    },
    {
      "cell_type": "code",
      "source": [
        "torch.min(random_tensor_A)"
      ],
      "metadata": {
        "colab": {
          "base_uri": "https://localhost:8080/"
        },
        "id": "p8d4Quce6fV4",
        "outputId": "6506a268-cd0a-41a8-9373-538e26f681b4"
      },
      "execution_count": 52,
      "outputs": [
        {
          "output_type": "execute_result",
          "data": {
            "text/plain": [
              "tensor(0.0290, device='cuda:0')"
            ]
          },
          "metadata": {},
          "execution_count": 52
        }
      ]
    },
    {
      "cell_type": "code",
      "source": [
        "torch.max(random_tensor_A)"
      ],
      "metadata": {
        "colab": {
          "base_uri": "https://localhost:8080/"
        },
        "id": "KBs4lSDB70Vj",
        "outputId": "c1bc4d53-aefc-406b-abbe-34ab7c7a1aae"
      },
      "execution_count": 53,
      "outputs": [
        {
          "output_type": "execute_result",
          "data": {
            "text/plain": [
              "tensor(0.7006, device='cuda:0')"
            ]
          },
          "metadata": {},
          "execution_count": 53
        }
      ]
    },
    {
      "cell_type": "code",
      "source": [
        "torch.min(random_tensor_B)"
      ],
      "metadata": {
        "colab": {
          "base_uri": "https://localhost:8080/"
        },
        "id": "jVWjsRgS73Bs",
        "outputId": "d2d10e77-35f8-4f3a-f2c1-c662cd08ce30"
      },
      "execution_count": 54,
      "outputs": [
        {
          "output_type": "execute_result",
          "data": {
            "text/plain": [
              "tensor(0.0290, device='cuda:0')"
            ]
          },
          "metadata": {},
          "execution_count": 54
        }
      ]
    },
    {
      "cell_type": "code",
      "source": [
        "torch.max(random_tensor_B)"
      ],
      "metadata": {
        "colab": {
          "base_uri": "https://localhost:8080/"
        },
        "id": "Xhpx-Upe7tdQ",
        "outputId": "7a15acd4-28ec-48aa-e665-b17bbd6691c5"
      },
      "execution_count": 55,
      "outputs": [
        {
          "output_type": "execute_result",
          "data": {
            "text/plain": [
              "tensor(0.7006, device='cuda:0')"
            ]
          },
          "metadata": {},
          "execution_count": 55
        }
      ]
    },
    {
      "cell_type": "code",
      "source": [
        "torch.argmin(random_tensor_A)"
      ],
      "metadata": {
        "colab": {
          "base_uri": "https://localhost:8080/"
        },
        "id": "3ju2KY7G78kP",
        "outputId": "8a4af9da-b1a6-4689-e8d5-a05ebc08e6bd"
      },
      "execution_count": 56,
      "outputs": [
        {
          "output_type": "execute_result",
          "data": {
            "text/plain": [
              "tensor(0, device='cuda:0')"
            ]
          },
          "metadata": {},
          "execution_count": 56
        }
      ]
    },
    {
      "cell_type": "code",
      "source": [
        "torch.argmax(random_tensor_A)"
      ],
      "metadata": {
        "colab": {
          "base_uri": "https://localhost:8080/"
        },
        "id": "rg2hNhcE8Y4X",
        "outputId": "08f1ff5c-18ed-4d2a-d4d2-09bb015274e4"
      },
      "execution_count": 57,
      "outputs": [
        {
          "output_type": "execute_result",
          "data": {
            "text/plain": [
              "tensor(5, device='cuda:0')"
            ]
          },
          "metadata": {},
          "execution_count": 57
        }
      ]
    },
    {
      "cell_type": "code",
      "source": [
        "torch.argmin(random_tensor_B)"
      ],
      "metadata": {
        "colab": {
          "base_uri": "https://localhost:8080/"
        },
        "id": "mMUO-bWK8WnV",
        "outputId": "73509f67-f68c-4f70-e994-c1a3f90ff816"
      },
      "execution_count": 58,
      "outputs": [
        {
          "output_type": "execute_result",
          "data": {
            "text/plain": [
              "tensor(0, device='cuda:0')"
            ]
          },
          "metadata": {},
          "execution_count": 58
        }
      ]
    },
    {
      "cell_type": "code",
      "source": [
        "torch.argmax(random_tensor_B)"
      ],
      "metadata": {
        "colab": {
          "base_uri": "https://localhost:8080/"
        },
        "id": "Dndb_fUH8dXm",
        "outputId": "3b347da4-bb33-408a-c318-10cfd4df3dee"
      },
      "execution_count": 59,
      "outputs": [
        {
          "output_type": "execute_result",
          "data": {
            "text/plain": [
              "tensor(5, device='cuda:0')"
            ]
          },
          "metadata": {},
          "execution_count": 59
        }
      ]
    },
    {
      "cell_type": "code",
      "source": [
        "torch.manual_seed(7)\n",
        "random_tensor_C = torch.rand(1,1,1,10)\n",
        "print(random_tensor_C.shape)\n",
        "random_tensor_D = random_tensor_C.squeeze()\n",
        "print(random_tensor_D.shape)"
      ],
      "metadata": {
        "id": "rVCktkCt8f9c",
        "colab": {
          "base_uri": "https://localhost:8080/"
        },
        "outputId": "2e0fa55e-f8a1-40a4-f8f4-64c6313b2448"
      },
      "execution_count": 63,
      "outputs": [
        {
          "output_type": "stream",
          "name": "stdout",
          "text": [
            "torch.Size([1, 1, 1, 10])\n",
            "torch.Size([10])\n"
          ]
        }
      ]
    },
    {
      "cell_type": "code",
      "source": [],
      "metadata": {
        "id": "gZ1hoDTt98fi"
      },
      "execution_count": null,
      "outputs": []
    }
  ]
}