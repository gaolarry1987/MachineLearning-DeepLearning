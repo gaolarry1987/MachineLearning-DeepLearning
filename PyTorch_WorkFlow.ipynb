{
  "nbformat": 4,
  "nbformat_minor": 0,
  "metadata": {
    "colab": {
      "provenance": [],
      "gpuType": "T4",
      "authorship_tag": "ABX9TyOhSEFsTOGhdNawIAn/tW2B",
      "include_colab_link": true
    },
    "kernelspec": {
      "name": "python3",
      "display_name": "Python 3"
    },
    "language_info": {
      "name": "python"
    },
    "accelerator": "GPU"
  },
  "cells": [
    {
      "cell_type": "markdown",
      "metadata": {
        "id": "view-in-github",
        "colab_type": "text"
      },
      "source": [
        "<a href=\"https://colab.research.google.com/github/gaolarry1987/MachineLearning-DeepLearning/blob/PyTorch-WorkFlow/PyTorch_WorkFlow.ipynb\" target=\"_parent\"><img src=\"https://colab.research.google.com/assets/colab-badge.svg\" alt=\"Open In Colab\"/></a>"
      ]
    },
    {
      "cell_type": "code",
      "execution_count": 3,
      "metadata": {
        "id": "JVE69X2h_WSC",
        "colab": {
          "base_uri": "https://localhost:8080/",
          "height": 35
        },
        "outputId": "8474e660-024b-45b4-e796-3edbd005e696"
      },
      "outputs": [
        {
          "output_type": "execute_result",
          "data": {
            "text/plain": [
              "'2.0.1+cu118'"
            ],
            "application/vnd.google.colaboratory.intrinsic+json": {
              "type": "string"
            }
          },
          "metadata": {},
          "execution_count": 3
        }
      ],
      "source": [
        "import torch\n",
        "import numpy as np\n",
        "from torch import nn # nn contains all of PyTorch's building blocks for neural networks\n",
        "import matplotlib.pyplot as plt\n",
        "\n",
        "torch.__version__"
      ]
    },
    {
      "cell_type": "markdown",
      "source": [
        "1: \"data(prepare and load)\"\n",
        "\n",
        "2: \"build model\"\n",
        "\n",
        "3: \"fitting the model to data(training)\"\n",
        "\n",
        "4: \"making predictions and\n",
        "evaluating amodel(inference)\"\n",
        "\n",
        "5: \"saving and loading a model\"\n",
        "\n",
        "6: \"putting it all together\""
      ],
      "metadata": {
        "id": "lTMghoUrAsIc"
      }
    },
    {
      "cell_type": "markdown",
      "source": [
        "## 1. Data(Preparing and Loading)"
      ],
      "metadata": {
        "id": "CNkKqVPMU3Zs"
      }
    },
    {
      "cell_type": "code",
      "source": [],
      "metadata": {
        "id": "KoilXVN3XB4i"
      },
      "execution_count": null,
      "outputs": []
    }
  ]
}