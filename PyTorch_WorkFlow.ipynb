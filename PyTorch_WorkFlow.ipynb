{
  "nbformat": 4,
  "nbformat_minor": 0,
  "metadata": {
    "colab": {
      "provenance": [],
      "gpuType": "T4",
      "authorship_tag": "ABX9TyPMXMulw6ti5Xw3ND5dlOZ4",
      "include_colab_link": true
    },
    "kernelspec": {
      "name": "python3",
      "display_name": "Python 3"
    },
    "language_info": {
      "name": "python"
    },
    "accelerator": "GPU"
  },
  "cells": [
    {
      "cell_type": "markdown",
      "metadata": {
        "id": "view-in-github",
        "colab_type": "text"
      },
      "source": [
        "<a href=\"https://colab.research.google.com/github/gaolarry1987/MachineLearning-DeepLearning/blob/PyTorch-WorkFlow/PyTorch_WorkFlow.ipynb\" target=\"_parent\"><img src=\"https://colab.research.google.com/assets/colab-badge.svg\" alt=\"Open In Colab\"/></a>"
      ]
    },
    {
      "cell_type": "code",
      "execution_count": 1,
      "metadata": {
        "id": "JVE69X2h_WSC",
        "colab": {
          "base_uri": "https://localhost:8080/",
          "height": 35
        },
        "outputId": "3c7946d9-9866-43e0-efb4-7d735e920987"
      },
      "outputs": [
        {
          "output_type": "execute_result",
          "data": {
            "text/plain": [
              "'2.0.1+cu118'"
            ],
            "application/vnd.google.colaboratory.intrinsic+json": {
              "type": "string"
            }
          },
          "metadata": {},
          "execution_count": 1
        }
      ],
      "source": [
        "import torch\n",
        "import numpy as np\n",
        "from torch import nn # nn contains all of PyTorch's building blocks for neural networks\n",
        "import matplotlib.pyplot as plt\n",
        "\n",
        "torch.__version__"
      ]
    },
    {
      "cell_type": "markdown",
      "source": [
        "1: \"data(prepare and load)\"\n",
        "\n",
        "2: \"build model\"\n",
        "\n",
        "3: \"fitting the model to data(training)\"\n",
        "\n",
        "4: \"making predictions and\n",
        "evaluating amodel(inference)\"\n",
        "\n",
        "5: \"saving and loading a model\"\n",
        "\n",
        "6: \"putting it all together\""
      ],
      "metadata": {
        "id": "lTMghoUrAsIc"
      }
    },
    {
      "cell_type": "markdown",
      "source": [
        "## 1. Data(Preparing and Loading)\n",
        "\n",
        "ML is a game of two parts:\n",
        "1. Get data into a numerical representation.\n",
        "2. Build a model to learn patterns in that numerical representation.\n",
        "\n",
        "Let's create some \"known\" data using the linear regression formula.\n",
        "\n",
        "We will use linear regression formula to make a straight line with parameters."
      ],
      "metadata": {
        "id": "CNkKqVPMU3Zs"
      }
    },
    {
      "cell_type": "code",
      "source": [],
      "metadata": {
        "id": "g6ovqTAB8cKq"
      },
      "execution_count": null,
      "outputs": []
    },
    {
      "cell_type": "code",
      "source": [
        "# Create \"known\" parameters\n",
        "weight = 0.7 # b -> slope\n",
        "bias = 0.3 # a -> intersect when X=0\n",
        "\n",
        "# Create some datas\n",
        "start = 0\n",
        "end = 1\n",
        "step = 0.02\n",
        "X = torch.arange(start, end, step).unsqueeze(dim=1)\n",
        "y = weight * X + bias\n",
        "\n",
        "X[:10], y[:10]"
      ],
      "metadata": {
        "id": "KoilXVN3XB4i",
        "colab": {
          "base_uri": "https://localhost:8080/"
        },
        "outputId": "a8c7f7f8-b501-4914-faa3-145fcfbb94d1"
      },
      "execution_count": 3,
      "outputs": [
        {
          "output_type": "execute_result",
          "data": {
            "text/plain": [
              "(tensor([[0.0000],\n",
              "         [0.0200],\n",
              "         [0.0400],\n",
              "         [0.0600],\n",
              "         [0.0800],\n",
              "         [0.1000],\n",
              "         [0.1200],\n",
              "         [0.1400],\n",
              "         [0.1600],\n",
              "         [0.1800]]),\n",
              " tensor([[0.3000],\n",
              "         [0.3140],\n",
              "         [0.3280],\n",
              "         [0.3420],\n",
              "         [0.3560],\n",
              "         [0.3700],\n",
              "         [0.3840],\n",
              "         [0.3980],\n",
              "         [0.4120],\n",
              "         [0.4260]]))"
            ]
          },
          "metadata": {},
          "execution_count": 3
        }
      ]
    },
    {
      "cell_type": "code",
      "source": [
        "len(X), len(y)"
      ],
      "metadata": {
        "colab": {
          "base_uri": "https://localhost:8080/"
        },
        "id": "TytQMiOH88Un",
        "outputId": "74a5e507-8bd1-4a26-e40f-5f0e66a9ce6e"
      },
      "execution_count": 4,
      "outputs": [
        {
          "output_type": "execute_result",
          "data": {
            "text/plain": [
              "(50, 50)"
            ]
          },
          "metadata": {},
          "execution_count": 4
        }
      ]
    },
    {
      "cell_type": "code",
      "source": [],
      "metadata": {
        "id": "99648C_w9AU7"
      },
      "execution_count": null,
      "outputs": []
    }
  ]
}